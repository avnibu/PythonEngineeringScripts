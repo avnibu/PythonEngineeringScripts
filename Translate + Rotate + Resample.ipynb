{
 "cells": [
  {
   "cell_type": "markdown",
   "metadata": {},
   "source": [
    "# Translate + Rotate + Resample"
   ]
  },
  {
   "cell_type": "markdown",
   "metadata": {},
   "source": [
    "For a given polyline defined by [x,y] coordinates, take an arbitrary baseline and translate the polyline so that the first point of the baseline is the origin and the baseline is the x' axis."
   ]
  },
  {
   "cell_type": "code",
   "execution_count": 16,
   "metadata": {
    "collapsed": true
   },
   "outputs": [],
   "source": [
    "%matplotlib inline\n",
    "import numpy\n",
    "numpy.set_printoptions(precision=2, suppress=True)"
   ]
  },
  {
   "cell_type": "code",
   "execution_count": 17,
   "metadata": {
    "collapsed": false
   },
   "outputs": [],
   "source": [
    "baseline = numpy.array([[314839.5257,2778384.304],\n",
    "                        [317631.173,2781484.742]])"
   ]
  },
  {
   "cell_type": "code",
   "execution_count": 18,
   "metadata": {
    "collapsed": false
   },
   "outputs": [],
   "source": [
    "baseline_translated = baseline - baseline[0]"
   ]
  },
  {
   "cell_type": "code",
   "execution_count": 19,
   "metadata": {
    "collapsed": false
   },
   "outputs": [
    {
     "data": {
      "text/plain": [
       "47.999996063574827"
      ]
     },
     "execution_count": 19,
     "metadata": {},
     "output_type": "execute_result"
    }
   ],
   "source": [
    "theta = numpy.arctan2(baseline_translated[1,1],baseline_translated[1,0]) # in radians\n",
    "theta * 180. / numpy.pi"
   ]
  },
  {
   "cell_type": "code",
   "execution_count": 20,
   "metadata": {
    "collapsed": false
   },
   "outputs": [
    {
     "data": {
      "text/plain": [
       "array([[    0.  ,     0.  ],\n",
       "       [ 4172.05,     0.  ]])"
      ]
     },
     "execution_count": 20,
     "metadata": {},
     "output_type": "execute_result"
    }
   ],
   "source": [
    "baseline_translated_rotated = numpy.copy(baseline_translated)\n",
    "baseline_translated_rotated[:,0] = baseline_translated[:,0] * numpy.cos(-theta) - baseline_translated[:,1] * numpy.sin(-theta)\n",
    "baseline_translated_rotated[:,1] = baseline_translated[:,0] * numpy.sin(-theta) + baseline_translated[:,1] * numpy.cos(-theta)\n",
    "baseline_translated_rotated"
   ]
  },
  {
   "cell_type": "code",
   "execution_count": 21,
   "metadata": {
    "collapsed": true
   },
   "outputs": [],
   "source": [
    "polyline = numpy.array([\n",
    "        [314765.21,2778451.22],\n",
    "        [315111.14,2778835.4],\n",
    "        [314929.62,2778998.84],\n",
    "        [315196.03,2779233.1],\n",
    "        [315178.11,2779262.7],\n",
    "        [315442.97,2779507.02],\n",
    "        [315402.64,2779556.79],\n",
    "        [315697.76,2779765.73],\n",
    "        [315643.1,2779828.4],\n",
    "        [315991.09,2780089.64],\n",
    "        [315945.4,2780144.24],\n",
    "        [316272.3,2780402.87],\n",
    "        [316258.36,2780428.88],\n",
    "        [316460.52,2780645.22],\n",
    "        [316615.25,2780505.89],\n",
    "        [317050.6,2780989.4],\n",
    "    ])"
   ]
  },
  {
   "cell_type": "code",
   "execution_count": 22,
   "metadata": {
    "collapsed": false
   },
   "outputs": [
    {
     "data": {
      "text/plain": [
       "array([ 314765.21,  315111.14,  314929.62,  315196.03,  315178.11,\n",
       "        315442.97,  315402.64,  315697.76,  315643.1 ,  315991.09,\n",
       "        315945.4 ,  316272.3 ,  316258.36,  316460.52,  316615.25,\n",
       "        317050.6 ])"
      ]
     },
     "execution_count": 22,
     "metadata": {},
     "output_type": "execute_result"
    }
   ],
   "source": [
    "polyline[:,0]"
   ]
  },
  {
   "cell_type": "code",
   "execution_count": 23,
   "metadata": {
    "collapsed": true
   },
   "outputs": [],
   "source": [
    "polyline_translated = polyline - baseline[0]"
   ]
  },
  {
   "cell_type": "code",
   "execution_count": 24,
   "metadata": {
    "collapsed": false
   },
   "outputs": [
    {
     "data": {
      "text/plain": [
       "array([   66.92,   451.1 ,   614.54,   848.8 ,   878.4 ,  1122.72,\n",
       "        1172.49,  1381.43,  1444.1 ,  1705.34,  1759.94,  2018.57,\n",
       "        2044.58,  2260.92,  2121.59,  2605.1 ])"
      ]
     },
     "execution_count": 24,
     "metadata": {},
     "output_type": "execute_result"
    }
   ],
   "source": [
    "polyline_translated[:,1]"
   ]
  },
  {
   "cell_type": "code",
   "execution_count": 25,
   "metadata": {
    "collapsed": false
   },
   "outputs": [],
   "source": [
    "polyline_translated_rotated = numpy.copy(polyline_translated)"
   ]
  },
  {
   "cell_type": "code",
   "execution_count": 26,
   "metadata": {
    "collapsed": false
   },
   "outputs": [
    {
     "data": {
      "text/plain": [
       "array([[    0.  ,   100.  ],\n",
       "       [  516.98,    99.99],\n",
       "       [  516.97,   344.25],\n",
       "       [  869.33,   303.02],\n",
       "       [  879.33,   336.14],\n",
       "       [ 1238.12,   302.8 ],\n",
       "       [ 1248.12,   366.07],\n",
       "       [ 1600.87,   286.56],\n",
       "       [ 1610.87,   369.12],\n",
       "       [ 2037.86,   285.31],\n",
       "       [ 2047.86,   355.8 ],\n",
       "       [ 2458.8 ,   285.93],\n",
       "       [ 2468.8 ,   313.69],\n",
       "       [ 2764.84,   308.21],\n",
       "       [ 2764.84,   100.  ],\n",
       "       [ 3415.46,   100.  ]])"
      ]
     },
     "execution_count": 26,
     "metadata": {},
     "output_type": "execute_result"
    }
   ],
   "source": [
    "polyline_translated_rotated[:,0] = polyline_translated[:,0] * numpy.cos(-theta) - polyline_translated[:,1] * numpy.sin(-theta)\n",
    "polyline_translated_rotated[:,1] = polyline_translated[:,0] * numpy.sin(-theta) + polyline_translated[:,1] * numpy.cos(-theta)\n",
    "polyline_translated_rotated"
   ]
  },
  {
   "cell_type": "code",
   "execution_count": 27,
   "metadata": {
    "collapsed": false
   },
   "outputs": [
    {
     "data": {
      "text/plain": [
       "array([[    0.  ,   100.  ],\n",
       "       [   50.  ,   100.  ],\n",
       "       [  100.  ,   100.  ],\n",
       "       [  150.  ,   100.  ],\n",
       "       [  200.  ,   100.  ],\n",
       "       [  250.  ,   100.  ],\n",
       "       [  300.  ,   100.  ],\n",
       "       [  350.  ,   100.  ],\n",
       "       [  400.  ,   100.  ],\n",
       "       [  450.  ,    99.99],\n",
       "       [  500.  ,    99.99],\n",
       "       [  550.  ,   340.39],\n",
       "       [  600.  ,   334.54],\n",
       "       [  650.  ,   328.69],\n",
       "       [  700.  ,   322.83],\n",
       "       [  750.  ,   316.98],\n",
       "       [  800.  ,   311.13],\n",
       "       [  850.  ,   305.28],\n",
       "       [  900.  ,   334.22],\n",
       "       [  950.  ,   329.58],\n",
       "       [ 1000.  ,   324.93],\n",
       "       [ 1050.  ,   320.28],\n",
       "       [ 1100.  ,   315.63],\n",
       "       [ 1150.  ,   310.99],\n",
       "       [ 1200.  ,   306.34],\n",
       "       [ 1250.  ,   365.65],\n",
       "       [ 1300.  ,   354.38],\n",
       "       [ 1350.  ,   343.11],\n",
       "       [ 1400.  ,   331.84],\n",
       "       [ 1450.  ,   320.57],\n",
       "       [ 1500.  ,   309.3 ],\n",
       "       [ 1550.  ,   298.03],\n",
       "       [ 1600.  ,   286.76],\n",
       "       [ 1650.  ,   361.44],\n",
       "       [ 1700.  ,   351.62],\n",
       "       [ 1750.  ,   341.81],\n",
       "       [ 1800.  ,   332.  ],\n",
       "       [ 1850.  ,   322.18],\n",
       "       [ 1900.  ,   312.37],\n",
       "       [ 1950.  ,   302.56],\n",
       "       [ 2000.  ,   292.74],\n",
       "       [ 2050.  ,   355.44],\n",
       "       [ 2100.  ,   346.94],\n",
       "       [ 2150.  ,   338.43],\n",
       "       [ 2200.  ,   329.93],\n",
       "       [ 2250.  ,   321.43],\n",
       "       [ 2300.  ,   312.93],\n",
       "       [ 2350.  ,   304.43],\n",
       "       [ 2400.  ,   295.92],\n",
       "       [ 2450.  ,   287.42],\n",
       "       [ 2500.  ,   313.11],\n",
       "       [ 2550.  ,   312.19],\n",
       "       [ 2600.  ,   311.26],\n",
       "       [ 2650.  ,   310.34],\n",
       "       [ 2700.  ,   309.41],\n",
       "       [ 2750.  ,   308.49],\n",
       "       [ 2800.  ,   100.  ],\n",
       "       [ 2850.  ,   100.  ],\n",
       "       [ 2900.  ,   100.  ],\n",
       "       [ 2950.  ,   100.  ],\n",
       "       [ 3000.  ,   100.  ],\n",
       "       [ 3050.  ,   100.  ],\n",
       "       [ 3100.  ,   100.  ],\n",
       "       [ 3150.  ,   100.  ],\n",
       "       [ 3200.  ,   100.  ],\n",
       "       [ 3250.  ,   100.  ],\n",
       "       [ 3300.  ,   100.  ],\n",
       "       [ 3350.  ,   100.  ],\n",
       "       [ 3400.  ,   100.  ]])"
      ]
     },
     "execution_count": 27,
     "metadata": {},
     "output_type": "execute_result"
    }
   ],
   "source": [
    "projectionX = numpy.arange(0, polyline_translated_rotated[-1,0], 50)\n",
    "projectionY = numpy.interp(projectionX,polyline_translated_rotated[:,0],polyline_translated_rotated[:,1])\n",
    "numpy.vstack([projectionX,projectionY]).T"
   ]
  },
  {
   "cell_type": "code",
   "execution_count": 28,
   "metadata": {
    "collapsed": false
   },
   "outputs": [
    {
     "data": {
      "image/png": "[encoded data removed]",
      "text/plain": [
       "<matplotlib.figure.Figure at 0x7fa05a1cce50>"
      ]
     },
     "metadata": {},
     "output_type": "display_data"
    }
   ],
   "source": [
    "import matplotlib.pyplot as plt\n",
    "plt.figure(figsize=(20, 10))\n",
    "plt.plot(polyline_translated_rotated[:,0],polyline_translated_rotated[:,1], '-', linewidth=2)\n",
    "plt.plot(projectionX,projectionY,\"o\")\n",
    "plt.show()"
   ]
  },
  {
   "cell_type": "code",
   "execution_count": 29,
   "metadata": {
    "collapsed": false
   },
   "outputs": [
    {
     "data": {
      "text/plain": [
       "array([[  314839.53,   317631.17],\n",
       "       [ 2778384.3 ,  2781484.74]])"
      ]
     },
     "execution_count": 29,
     "metadata": {},
     "output_type": "execute_result"
    }
   ],
   "source": [
    "baseline.T"
   ]
  },
  {
   "cell_type": "code",
   "execution_count": 30,
   "metadata": {
    "collapsed": false
   },
   "outputs": [
    {
     "data": {
      "text/plain": [
       "array([[  314839.53,  2778384.3 ],\n",
       "       [  317631.17,  2781484.74]])"
      ]
     },
     "execution_count": 30,
     "metadata": {},
     "output_type": "execute_result"
    }
   ],
   "source": [
    "baseline"
   ]
  },
  {
   "cell_type": "code",
   "execution_count": null,
   "metadata": {
    "collapsed": true
   },
   "outputs": [],
   "source": []
  }
 ],
 "metadata": {
  "kernelspec": {
   "display_name": "Python 2",
   "language": "python",
   "name": "python2"
  },
  "language_info": {
   "codemirror_mode": {
    "name": "ipython",
    "version": 2
   },
   "file_extension": ".py",
   "mimetype": "text/x-python",
   "name": "python",
   "nbconvert_exporter": "python",
   "pygments_lexer": "ipython2",
   "version": "2.7.6"
  }
 },
 "nbformat": 4,
 "nbformat_minor": 0
}
