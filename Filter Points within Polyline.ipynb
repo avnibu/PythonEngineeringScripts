{
  "nbformat": 4,
  "nbformat_minor": 0,
  "metadata": {
    "colab": {
      "name": "Untitled2.ipynb",
      "provenance": [],
      "authorship_tag": "ABX9TyN9VNVVHo1KI8TizltQkZih",
      "include_colab_link": true
    },
    "kernelspec": {
      "name": "python3",
      "display_name": "Python 3"
    }
  },
  "cells": [
    {
      "cell_type": "markdown",
      "metadata": {
        "id": "view-in-github",
        "colab_type": "text"
      },
      "source": [
        "<a href=\"https://colab.research.google.com/github/avnibu/PythonEngineeringScripts/blob/master/Filter%20Points%20within%20Polyline.ipynb\" target=\"_parent\"><img src=\"https://colab.research.google.com/assets/colab-badge.svg\" alt=\"Open In Colab\"/></a>"
      ]
    },
    {
      "cell_type": "code",
      "metadata": {
        "id": "zPsuJ3afAFio"
      },
      "source": [
        "import numpy as np\r\n",
        "import matplotlib.path as mpltPath"
      ],
      "execution_count": 3,
      "outputs": []
    },
    {
      "cell_type": "code",
      "metadata": {
        "id": "wjyLav-5Pi3h"
      },
      "source": [
        "IslandG = np.loadtxt(\"Island G Platform points (1m spaced).txt\", delimiter=\",\")"
      ],
      "execution_count": 10,
      "outputs": []
    },
    {
      "cell_type": "code",
      "metadata": {
        "id": "COocSyNkQP3p"
      },
      "source": [
        "IslandG_bathy = np.loadtxt(\"E-0904-Island-G-1m_0sm_CD_ObsTide_15Nov2020.xyz\", delimiter=\" \", skiprows=3)"
      ],
      "execution_count": 13,
      "outputs": []
    },
    {
      "cell_type": "code",
      "metadata": {
        "colab": {
          "base_uri": "https://localhost:8080/"
        },
        "id": "-i8gAayAAlwX",
        "outputId": "cfe6ba6b-f9ac-4c20-8ade-de4bcd0eaa44"
      },
      "source": [
        "IslandG_bathy2D = np.delete(IslandG_bathy, 2, 1)\r\n",
        "IslandG_bathy2D.shape"
      ],
      "execution_count": 20,
      "outputs": [
        {
          "output_type": "execute_result",
          "data": {
            "text/plain": [
              "(2998130, 2)"
            ]
          },
          "metadata": {
            "tags": []
          },
          "execution_count": 20
        }
      ]
    },
    {
      "cell_type": "code",
      "metadata": {
        "colab": {
          "base_uri": "https://localhost:8080/"
        },
        "id": "Jq36K-MnAOsf",
        "outputId": "83c833f4-d21c-4d74-8267-7477e9d1b810"
      },
      "source": [
        "boundary = mpltPath.Path(IslandG)\r\n",
        "IsInside = boundary.contains_points(IslandG_bathy2D)"
      ],
      "execution_count": 28,
      "outputs": [
        {
          "output_type": "execute_result",
          "data": {
            "text/plain": [
              "(2998130,)"
            ]
          },
          "metadata": {
            "tags": []
          },
          "execution_count": 28
        }
      ]
    },
    {
      "cell_type": "code",
      "metadata": {
        "colab": {
          "base_uri": "https://localhost:8080/"
        },
        "id": "zaxGuHVvmb44",
        "outputId": "f6459b59-6c5f-419d-8230-b47861bee761"
      },
      "source": [
        "PointsInside = np.vstack([p for idx,p in enumerate(IslandG_bathy) if IsInside[idx]])\r\n",
        "PointsInside"
      ],
      "execution_count": 94,
      "outputs": [
        {
          "output_type": "execute_result",
          "data": {
            "text/plain": [
              "array([[ 7.714430e+05,  2.756448e+06, -1.307200e+01],\n",
              "       [ 7.714440e+05,  2.756448e+06, -1.306800e+01],\n",
              "       [ 7.714450e+05,  2.756448e+06, -1.305700e+01],\n",
              "       ...,\n",
              "       [ 7.718910e+05,  2.754914e+06, -1.162400e+01],\n",
              "       [ 7.718920e+05,  2.754914e+06, -1.159800e+01],\n",
              "       [ 7.718930e+05,  2.754914e+06, -1.158100e+01]])"
            ]
          },
          "metadata": {
            "tags": []
          },
          "execution_count": 94
        }
      ]
    },
    {
      "cell_type": "code",
      "metadata": {
        "colab": {
          "base_uri": "https://localhost:8080/"
        },
        "id": "7jmxLFsIozPi",
        "outputId": "85c9e441-33dd-4a53-8fa9-b9d8b06c4f03"
      },
      "source": [
        "PlatformLevelG = 7.0\r\n",
        "\r\n",
        "np.sum(PlatformLevelG - PointsInside[:,2])"
      ],
      "execution_count": 100,
      "outputs": [
        {
          "output_type": "execute_result",
          "data": {
            "text/plain": [
              "17451053.774000004"
            ]
          },
          "metadata": {
            "tags": []
          },
          "execution_count": 100
        }
      ]
    }
  ]
}